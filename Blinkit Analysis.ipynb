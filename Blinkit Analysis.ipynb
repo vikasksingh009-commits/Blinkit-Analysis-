{
 "cells": [
  {
   "cell_type": "markdown",
   "id": "e0edce0f-34af-4768-967d-6630537ef377",
   "metadata": {},
   "source": [
    "### Import the required libraries"
   ]
  },
  {
   "cell_type": "code",
   "execution_count": 114,
   "id": "6135feb5-3ea6-4aa3-911a-9dcd5f88b57a",
   "metadata": {},
   "outputs": [],
   "source": [
    "import pandas as pd\n",
    "import numpy as np\n",
    "import matplotlib.pyplot as plt\n",
    "import seaborn as sns\n",
    "import warnings\n",
    "warnings.filterwarnings('ignore')\n",
    "import os"
   ]
  },
  {
   "cell_type": "markdown",
   "id": "547eaaff-ad39-4378-a78a-849f23455982",
   "metadata": {},
   "source": [
    "### Importing the dataset"
   ]
  },
  {
   "cell_type": "markdown",
   "id": "32bb247a-89b3-424a-a7ce-15ef4e932929",
   "metadata": {},
   "source": [
    "#### Note: _Import the file that is there in your folder. The path here will be different for you_"
   ]
  },
  {
   "cell_type": "code",
   "execution_count": 116,
   "id": "48b40d9e-751f-4dc0-9e57-05c581e16277",
   "metadata": {},
   "outputs": [],
   "source": [
    " df = pd.read_excel(r\"C:/Users/This PC/Desktop/DATA SCIENCE/BlinkIT Grocery Data.xlsx\")"
   ]
  },
  {
   "cell_type": "code",
   "execution_count": 118,
   "id": "ceb10004-4076-4e66-b984-5aa2fdb13da3",
   "metadata": {
    "scrolled": true
   },
   "outputs": [
    {
     "data": {
      "text/html": [
       "<div>\n",
       "<style scoped>\n",
       "    .dataframe tbody tr th:only-of-type {\n",
       "        vertical-align: middle;\n",
       "    }\n",
       "\n",
       "    .dataframe tbody tr th {\n",
       "        vertical-align: top;\n",
       "    }\n",
       "\n",
       "    .dataframe thead th {\n",
       "        text-align: right;\n",
       "    }\n",
       "</style>\n",
       "<table border=\"1\" class=\"dataframe\">\n",
       "  <thead>\n",
       "    <tr style=\"text-align: right;\">\n",
       "      <th></th>\n",
       "      <th>Item Fat Content</th>\n",
       "      <th>Item Identifier</th>\n",
       "      <th>Item Type</th>\n",
       "      <th>Outlet Establishment Year</th>\n",
       "      <th>Outlet Identifier</th>\n",
       "      <th>Outlet Location Type</th>\n",
       "      <th>Outlet Size</th>\n",
       "      <th>Outlet Type</th>\n",
       "      <th>Item Visibility</th>\n",
       "      <th>Item Weight</th>\n",
       "      <th>Sales</th>\n",
       "      <th>Rating</th>\n",
       "    </tr>\n",
       "  </thead>\n",
       "  <tbody>\n",
       "    <tr>\n",
       "      <th>0</th>\n",
       "      <td>Regular</td>\n",
       "      <td>FDX32</td>\n",
       "      <td>Fruits and Vegetables</td>\n",
       "      <td>2012</td>\n",
       "      <td>OUT049</td>\n",
       "      <td>Tier 1</td>\n",
       "      <td>Medium</td>\n",
       "      <td>Supermarket Type1</td>\n",
       "      <td>0.100014</td>\n",
       "      <td>15.10</td>\n",
       "      <td>145.4786</td>\n",
       "      <td>5.0</td>\n",
       "    </tr>\n",
       "    <tr>\n",
       "      <th>1</th>\n",
       "      <td>Low Fat</td>\n",
       "      <td>NCB42</td>\n",
       "      <td>Health and Hygiene</td>\n",
       "      <td>2022</td>\n",
       "      <td>OUT018</td>\n",
       "      <td>Tier 3</td>\n",
       "      <td>Medium</td>\n",
       "      <td>Supermarket Type2</td>\n",
       "      <td>0.008596</td>\n",
       "      <td>11.80</td>\n",
       "      <td>115.3492</td>\n",
       "      <td>5.0</td>\n",
       "    </tr>\n",
       "    <tr>\n",
       "      <th>2</th>\n",
       "      <td>Regular</td>\n",
       "      <td>FDR28</td>\n",
       "      <td>Frozen Foods</td>\n",
       "      <td>2016</td>\n",
       "      <td>OUT046</td>\n",
       "      <td>Tier 1</td>\n",
       "      <td>Small</td>\n",
       "      <td>Supermarket Type1</td>\n",
       "      <td>0.025896</td>\n",
       "      <td>13.85</td>\n",
       "      <td>165.0210</td>\n",
       "      <td>5.0</td>\n",
       "    </tr>\n",
       "    <tr>\n",
       "      <th>3</th>\n",
       "      <td>Regular</td>\n",
       "      <td>FDL50</td>\n",
       "      <td>Canned</td>\n",
       "      <td>2014</td>\n",
       "      <td>OUT013</td>\n",
       "      <td>Tier 3</td>\n",
       "      <td>High</td>\n",
       "      <td>Supermarket Type1</td>\n",
       "      <td>0.042278</td>\n",
       "      <td>12.15</td>\n",
       "      <td>126.5046</td>\n",
       "      <td>5.0</td>\n",
       "    </tr>\n",
       "    <tr>\n",
       "      <th>4</th>\n",
       "      <td>Low Fat</td>\n",
       "      <td>DRI25</td>\n",
       "      <td>Soft Drinks</td>\n",
       "      <td>2015</td>\n",
       "      <td>OUT045</td>\n",
       "      <td>Tier 2</td>\n",
       "      <td>Small</td>\n",
       "      <td>Supermarket Type1</td>\n",
       "      <td>0.033970</td>\n",
       "      <td>19.60</td>\n",
       "      <td>55.1614</td>\n",
       "      <td>5.0</td>\n",
       "    </tr>\n",
       "  </tbody>\n",
       "</table>\n",
       "</div>"
      ],
      "text/plain": [
       "  Item Fat Content Item Identifier              Item Type  \\\n",
       "0          Regular           FDX32  Fruits and Vegetables   \n",
       "1          Low Fat           NCB42     Health and Hygiene   \n",
       "2          Regular           FDR28           Frozen Foods   \n",
       "3          Regular           FDL50                 Canned   \n",
       "4          Low Fat           DRI25            Soft Drinks   \n",
       "\n",
       "   Outlet Establishment Year Outlet Identifier Outlet Location Type  \\\n",
       "0                       2012            OUT049               Tier 1   \n",
       "1                       2022            OUT018               Tier 3   \n",
       "2                       2016            OUT046               Tier 1   \n",
       "3                       2014            OUT013               Tier 3   \n",
       "4                       2015            OUT045               Tier 2   \n",
       "\n",
       "  Outlet Size        Outlet Type  Item Visibility  Item Weight     Sales  \\\n",
       "0      Medium  Supermarket Type1         0.100014        15.10  145.4786   \n",
       "1      Medium  Supermarket Type2         0.008596        11.80  115.3492   \n",
       "2       Small  Supermarket Type1         0.025896        13.85  165.0210   \n",
       "3        High  Supermarket Type1         0.042278        12.15  126.5046   \n",
       "4       Small  Supermarket Type1         0.033970        19.60   55.1614   \n",
       "\n",
       "   Rating  \n",
       "0     5.0  \n",
       "1     5.0  \n",
       "2     5.0  \n",
       "3     5.0  \n",
       "4     5.0  "
      ]
     },
     "execution_count": 118,
     "metadata": {},
     "output_type": "execute_result"
    }
   ],
   "source": [
    "df.head()"
   ]
  },
  {
   "cell_type": "code",
   "execution_count": 120,
   "id": "3708f00f-e240-4a80-aad2-ab5c57c9db07",
   "metadata": {},
   "outputs": [
    {
     "data": {
      "text/html": [
       "<div>\n",
       "<style scoped>\n",
       "    .dataframe tbody tr th:only-of-type {\n",
       "        vertical-align: middle;\n",
       "    }\n",
       "\n",
       "    .dataframe tbody tr th {\n",
       "        vertical-align: top;\n",
       "    }\n",
       "\n",
       "    .dataframe thead th {\n",
       "        text-align: right;\n",
       "    }\n",
       "</style>\n",
       "<table border=\"1\" class=\"dataframe\">\n",
       "  <thead>\n",
       "    <tr style=\"text-align: right;\">\n",
       "      <th></th>\n",
       "      <th>Item Fat Content</th>\n",
       "      <th>Item Identifier</th>\n",
       "      <th>Item Type</th>\n",
       "      <th>Outlet Establishment Year</th>\n",
       "      <th>Outlet Identifier</th>\n",
       "      <th>Outlet Location Type</th>\n",
       "      <th>Outlet Size</th>\n",
       "      <th>Outlet Type</th>\n",
       "      <th>Item Visibility</th>\n",
       "      <th>Item Weight</th>\n",
       "      <th>Sales</th>\n",
       "      <th>Rating</th>\n",
       "    </tr>\n",
       "  </thead>\n",
       "  <tbody>\n",
       "    <tr>\n",
       "      <th>8518</th>\n",
       "      <td>low fat</td>\n",
       "      <td>NCT53</td>\n",
       "      <td>Health and Hygiene</td>\n",
       "      <td>2018</td>\n",
       "      <td>OUT027</td>\n",
       "      <td>Tier 3</td>\n",
       "      <td>Medium</td>\n",
       "      <td>Supermarket Type3</td>\n",
       "      <td>0.000000</td>\n",
       "      <td>NaN</td>\n",
       "      <td>164.5526</td>\n",
       "      <td>4.0</td>\n",
       "    </tr>\n",
       "    <tr>\n",
       "      <th>8519</th>\n",
       "      <td>low fat</td>\n",
       "      <td>FDN09</td>\n",
       "      <td>Snack Foods</td>\n",
       "      <td>2018</td>\n",
       "      <td>OUT027</td>\n",
       "      <td>Tier 3</td>\n",
       "      <td>Medium</td>\n",
       "      <td>Supermarket Type3</td>\n",
       "      <td>0.034706</td>\n",
       "      <td>NaN</td>\n",
       "      <td>241.6828</td>\n",
       "      <td>4.0</td>\n",
       "    </tr>\n",
       "    <tr>\n",
       "      <th>8520</th>\n",
       "      <td>low fat</td>\n",
       "      <td>DRE13</td>\n",
       "      <td>Soft Drinks</td>\n",
       "      <td>2018</td>\n",
       "      <td>OUT027</td>\n",
       "      <td>Tier 3</td>\n",
       "      <td>Medium</td>\n",
       "      <td>Supermarket Type3</td>\n",
       "      <td>0.027571</td>\n",
       "      <td>NaN</td>\n",
       "      <td>86.6198</td>\n",
       "      <td>4.0</td>\n",
       "    </tr>\n",
       "    <tr>\n",
       "      <th>8521</th>\n",
       "      <td>reg</td>\n",
       "      <td>FDT50</td>\n",
       "      <td>Dairy</td>\n",
       "      <td>2018</td>\n",
       "      <td>OUT027</td>\n",
       "      <td>Tier 3</td>\n",
       "      <td>Medium</td>\n",
       "      <td>Supermarket Type3</td>\n",
       "      <td>0.107715</td>\n",
       "      <td>NaN</td>\n",
       "      <td>97.8752</td>\n",
       "      <td>4.0</td>\n",
       "    </tr>\n",
       "    <tr>\n",
       "      <th>8522</th>\n",
       "      <td>reg</td>\n",
       "      <td>FDM58</td>\n",
       "      <td>Snack Foods</td>\n",
       "      <td>2018</td>\n",
       "      <td>OUT027</td>\n",
       "      <td>Tier 3</td>\n",
       "      <td>Medium</td>\n",
       "      <td>Supermarket Type3</td>\n",
       "      <td>0.000000</td>\n",
       "      <td>NaN</td>\n",
       "      <td>112.2544</td>\n",
       "      <td>4.0</td>\n",
       "    </tr>\n",
       "  </tbody>\n",
       "</table>\n",
       "</div>"
      ],
      "text/plain": [
       "     Item Fat Content Item Identifier           Item Type  \\\n",
       "8518          low fat           NCT53  Health and Hygiene   \n",
       "8519          low fat           FDN09         Snack Foods   \n",
       "8520          low fat           DRE13         Soft Drinks   \n",
       "8521              reg           FDT50               Dairy   \n",
       "8522              reg           FDM58         Snack Foods   \n",
       "\n",
       "      Outlet Establishment Year Outlet Identifier Outlet Location Type  \\\n",
       "8518                       2018            OUT027               Tier 3   \n",
       "8519                       2018            OUT027               Tier 3   \n",
       "8520                       2018            OUT027               Tier 3   \n",
       "8521                       2018            OUT027               Tier 3   \n",
       "8522                       2018            OUT027               Tier 3   \n",
       "\n",
       "     Outlet Size        Outlet Type  Item Visibility  Item Weight     Sales  \\\n",
       "8518      Medium  Supermarket Type3         0.000000          NaN  164.5526   \n",
       "8519      Medium  Supermarket Type3         0.034706          NaN  241.6828   \n",
       "8520      Medium  Supermarket Type3         0.027571          NaN   86.6198   \n",
       "8521      Medium  Supermarket Type3         0.107715          NaN   97.8752   \n",
       "8522      Medium  Supermarket Type3         0.000000          NaN  112.2544   \n",
       "\n",
       "      Rating  \n",
       "8518     4.0  \n",
       "8519     4.0  \n",
       "8520     4.0  \n",
       "8521     4.0  \n",
       "8522     4.0  "
      ]
     },
     "execution_count": 120,
     "metadata": {},
     "output_type": "execute_result"
    }
   ],
   "source": [
    "df.tail()"
   ]
  },
  {
   "cell_type": "markdown",
   "id": "41b7fa83-3daa-4a70-834b-6af3d4efa54d",
   "metadata": {},
   "source": [
    "### Detail of Dataset"
   ]
  },
  {
   "cell_type": "code",
   "execution_count": 123,
   "id": "100fd24c-f3a0-4f8f-8a72-070d96f52436",
   "metadata": {},
   "outputs": [
    {
     "name": "stdout",
     "output_type": "stream",
     "text": [
      "The Metatdata of the dataset: (8523, 12)\n"
     ]
    }
   ],
   "source": [
    "print(\"The Metatdata of the dataset:\",df.shape)"
   ]
  },
  {
   "cell_type": "code",
   "execution_count": 125,
   "id": "4327d37d-bb6a-4137-92b2-21ec8a093b9e",
   "metadata": {},
   "outputs": [
    {
     "name": "stdout",
     "output_type": "stream",
     "text": [
      "No.of Rows in the dataset: 8523\n"
     ]
    }
   ],
   "source": [
    "print(\"No.of Rows in the dataset:\",df.shape[0])"
   ]
  },
  {
   "cell_type": "code",
   "execution_count": 127,
   "id": "21c4dea1-f00a-49d4-9cc1-a322eee9b03a",
   "metadata": {},
   "outputs": [
    {
     "name": "stdout",
     "output_type": "stream",
     "text": [
      "No.of Column in the dataset: 12\n"
     ]
    }
   ],
   "source": [
    "print(\"No.of Column in the dataset:\",df.shape[1])"
   ]
  },
  {
   "cell_type": "markdown",
   "id": "c8972bba-4202-4163-a078-16dcc0479c16",
   "metadata": {},
   "source": [
    "### All Columns of Dataset"
   ]
  },
  {
   "cell_type": "code",
   "execution_count": 129,
   "id": "85d26d68-1011-4c21-89ba-e5bcd0d328bc",
   "metadata": {},
   "outputs": [
    {
     "data": {
      "text/plain": [
       "Index(['Item Fat Content', 'Item Identifier', 'Item Type',\n",
       "       'Outlet Establishment Year', 'Outlet Identifier',\n",
       "       'Outlet Location Type', 'Outlet Size', 'Outlet Type', 'Item Visibility',\n",
       "       'Item Weight', 'Sales', 'Rating'],\n",
       "      dtype='object')"
      ]
     },
     "execution_count": 129,
     "metadata": {},
     "output_type": "execute_result"
    }
   ],
   "source": [
    "df.columns"
   ]
  },
  {
   "cell_type": "markdown",
   "id": "5374167d-befa-4434-a8aa-4cbfe49f4fd8",
   "metadata": {},
   "source": [
    "### Column's information"
   ]
  },
  {
   "cell_type": "code",
   "execution_count": 131,
   "id": "6e5b87c4-4802-4ac3-9ff6-0ad423f040ae",
   "metadata": {},
   "outputs": [
    {
     "data": {
      "text/plain": [
       "<bound method DataFrame.info of      Item Fat Content Item Identifier              Item Type  \\\n",
       "0             Regular           FDX32  Fruits and Vegetables   \n",
       "1             Low Fat           NCB42     Health and Hygiene   \n",
       "2             Regular           FDR28           Frozen Foods   \n",
       "3             Regular           FDL50                 Canned   \n",
       "4             Low Fat           DRI25            Soft Drinks   \n",
       "...               ...             ...                    ...   \n",
       "8518          low fat           NCT53     Health and Hygiene   \n",
       "8519          low fat           FDN09            Snack Foods   \n",
       "8520          low fat           DRE13            Soft Drinks   \n",
       "8521              reg           FDT50                  Dairy   \n",
       "8522              reg           FDM58            Snack Foods   \n",
       "\n",
       "      Outlet Establishment Year Outlet Identifier Outlet Location Type  \\\n",
       "0                          2012            OUT049               Tier 1   \n",
       "1                          2022            OUT018               Tier 3   \n",
       "2                          2016            OUT046               Tier 1   \n",
       "3                          2014            OUT013               Tier 3   \n",
       "4                          2015            OUT045               Tier 2   \n",
       "...                         ...               ...                  ...   \n",
       "8518                       2018            OUT027               Tier 3   \n",
       "8519                       2018            OUT027               Tier 3   \n",
       "8520                       2018            OUT027               Tier 3   \n",
       "8521                       2018            OUT027               Tier 3   \n",
       "8522                       2018            OUT027               Tier 3   \n",
       "\n",
       "     Outlet Size        Outlet Type  Item Visibility  Item Weight     Sales  \\\n",
       "0         Medium  Supermarket Type1         0.100014        15.10  145.4786   \n",
       "1         Medium  Supermarket Type2         0.008596        11.80  115.3492   \n",
       "2          Small  Supermarket Type1         0.025896        13.85  165.0210   \n",
       "3           High  Supermarket Type1         0.042278        12.15  126.5046   \n",
       "4          Small  Supermarket Type1         0.033970        19.60   55.1614   \n",
       "...          ...                ...              ...          ...       ...   \n",
       "8518      Medium  Supermarket Type3         0.000000          NaN  164.5526   \n",
       "8519      Medium  Supermarket Type3         0.034706          NaN  241.6828   \n",
       "8520      Medium  Supermarket Type3         0.027571          NaN   86.6198   \n",
       "8521      Medium  Supermarket Type3         0.107715          NaN   97.8752   \n",
       "8522      Medium  Supermarket Type3         0.000000          NaN  112.2544   \n",
       "\n",
       "      Rating  \n",
       "0        5.0  \n",
       "1        5.0  \n",
       "2        5.0  \n",
       "3        5.0  \n",
       "4        5.0  \n",
       "...      ...  \n",
       "8518     4.0  \n",
       "8519     4.0  \n",
       "8520     4.0  \n",
       "8521     4.0  \n",
       "8522     4.0  \n",
       "\n",
       "[8523 rows x 12 columns]>"
      ]
     },
     "execution_count": 131,
     "metadata": {},
     "output_type": "execute_result"
    }
   ],
   "source": [
    "df.info"
   ]
  },
  {
   "cell_type": "markdown",
   "id": "6e3980d5-e104-4043-b227-d47eba3a178b",
   "metadata": {},
   "source": [
    "### Column datatype"
   ]
  },
  {
   "cell_type": "code",
   "execution_count": 133,
   "id": "d63ef853-6f7c-4425-9421-458b0568ccd7",
   "metadata": {},
   "outputs": [
    {
     "data": {
      "text/plain": [
       "Item Fat Content              object\n",
       "Item Identifier               object\n",
       "Item Type                     object\n",
       "Outlet Establishment Year      int64\n",
       "Outlet Identifier             object\n",
       "Outlet Location Type          object\n",
       "Outlet Size                   object\n",
       "Outlet Type                   object\n",
       "Item Visibility              float64\n",
       "Item Weight                  float64\n",
       "Sales                        float64\n",
       "Rating                       float64\n",
       "dtype: object"
      ]
     },
     "execution_count": 133,
     "metadata": {},
     "output_type": "execute_result"
    }
   ],
   "source": [
    "df.dtypes"
   ]
  },
  {
   "cell_type": "markdown",
   "id": "0e7ed2d7-cf8c-42f5-9612-e2a4f4e67062",
   "metadata": {},
   "source": [
    "### Statictics of Dataset"
   ]
  },
  {
   "cell_type": "code",
   "execution_count": 135,
   "id": "7e65faa2-2026-4b4b-84cd-a8ad4bf70639",
   "metadata": {},
   "outputs": [
    {
     "data": {
      "text/html": [
       "<div>\n",
       "<style scoped>\n",
       "    .dataframe tbody tr th:only-of-type {\n",
       "        vertical-align: middle;\n",
       "    }\n",
       "\n",
       "    .dataframe tbody tr th {\n",
       "        vertical-align: top;\n",
       "    }\n",
       "\n",
       "    .dataframe thead th {\n",
       "        text-align: right;\n",
       "    }\n",
       "</style>\n",
       "<table border=\"1\" class=\"dataframe\">\n",
       "  <thead>\n",
       "    <tr style=\"text-align: right;\">\n",
       "      <th></th>\n",
       "      <th>Outlet Establishment Year</th>\n",
       "      <th>Item Visibility</th>\n",
       "      <th>Item Weight</th>\n",
       "      <th>Sales</th>\n",
       "      <th>Rating</th>\n",
       "    </tr>\n",
       "  </thead>\n",
       "  <tbody>\n",
       "    <tr>\n",
       "      <th>count</th>\n",
       "      <td>8523.000000</td>\n",
       "      <td>8523.000000</td>\n",
       "      <td>7060.000000</td>\n",
       "      <td>8523.000000</td>\n",
       "      <td>8523.000000</td>\n",
       "    </tr>\n",
       "    <tr>\n",
       "      <th>mean</th>\n",
       "      <td>2016.450546</td>\n",
       "      <td>0.066132</td>\n",
       "      <td>12.857645</td>\n",
       "      <td>140.992783</td>\n",
       "      <td>3.965857</td>\n",
       "    </tr>\n",
       "    <tr>\n",
       "      <th>std</th>\n",
       "      <td>3.189396</td>\n",
       "      <td>0.051598</td>\n",
       "      <td>4.643456</td>\n",
       "      <td>62.275067</td>\n",
       "      <td>0.605651</td>\n",
       "    </tr>\n",
       "    <tr>\n",
       "      <th>min</th>\n",
       "      <td>2011.000000</td>\n",
       "      <td>0.000000</td>\n",
       "      <td>4.555000</td>\n",
       "      <td>31.290000</td>\n",
       "      <td>1.000000</td>\n",
       "    </tr>\n",
       "    <tr>\n",
       "      <th>25%</th>\n",
       "      <td>2014.000000</td>\n",
       "      <td>0.026989</td>\n",
       "      <td>8.773750</td>\n",
       "      <td>93.826500</td>\n",
       "      <td>4.000000</td>\n",
       "    </tr>\n",
       "    <tr>\n",
       "      <th>50%</th>\n",
       "      <td>2016.000000</td>\n",
       "      <td>0.053931</td>\n",
       "      <td>12.600000</td>\n",
       "      <td>143.012800</td>\n",
       "      <td>4.000000</td>\n",
       "    </tr>\n",
       "    <tr>\n",
       "      <th>75%</th>\n",
       "      <td>2018.000000</td>\n",
       "      <td>0.094585</td>\n",
       "      <td>16.850000</td>\n",
       "      <td>185.643700</td>\n",
       "      <td>4.200000</td>\n",
       "    </tr>\n",
       "    <tr>\n",
       "      <th>max</th>\n",
       "      <td>2022.000000</td>\n",
       "      <td>0.328391</td>\n",
       "      <td>21.350000</td>\n",
       "      <td>266.888400</td>\n",
       "      <td>5.000000</td>\n",
       "    </tr>\n",
       "  </tbody>\n",
       "</table>\n",
       "</div>"
      ],
      "text/plain": [
       "       Outlet Establishment Year  Item Visibility  Item Weight        Sales  \\\n",
       "count                8523.000000      8523.000000  7060.000000  8523.000000   \n",
       "mean                 2016.450546         0.066132    12.857645   140.992783   \n",
       "std                     3.189396         0.051598     4.643456    62.275067   \n",
       "min                  2011.000000         0.000000     4.555000    31.290000   \n",
       "25%                  2014.000000         0.026989     8.773750    93.826500   \n",
       "50%                  2016.000000         0.053931    12.600000   143.012800   \n",
       "75%                  2018.000000         0.094585    16.850000   185.643700   \n",
       "max                  2022.000000         0.328391    21.350000   266.888400   \n",
       "\n",
       "            Rating  \n",
       "count  8523.000000  \n",
       "mean      3.965857  \n",
       "std       0.605651  \n",
       "min       1.000000  \n",
       "25%       4.000000  \n",
       "50%       4.000000  \n",
       "75%       4.200000  \n",
       "max       5.000000  "
      ]
     },
     "execution_count": 135,
     "metadata": {},
     "output_type": "execute_result"
    }
   ],
   "source": [
    "df.describe()"
   ]
  },
  {
   "cell_type": "markdown",
   "id": "8469b9df-ec01-4b4c-96fa-eb71dda2117b",
   "metadata": {},
   "source": [
    "### Finding the Duplicates"
   ]
  },
  {
   "cell_type": "code",
   "execution_count": 137,
   "id": "b22d68a3-8ace-4281-80a2-7400a10979dc",
   "metadata": {},
   "outputs": [
    {
     "data": {
      "text/plain": [
       "0"
      ]
     },
     "execution_count": 137,
     "metadata": {},
     "output_type": "execute_result"
    }
   ],
   "source": [
    "df.duplicated().sum()"
   ]
  },
  {
   "cell_type": "markdown",
   "id": "ee2454df-6dc2-4642-9a32-806f765875ac",
   "metadata": {},
   "source": [
    "### Finding the Nulls"
   ]
  },
  {
   "cell_type": "code",
   "execution_count": 139,
   "id": "0d1b04dd-5566-4e3b-8a77-3b2c39f43342",
   "metadata": {},
   "outputs": [
    {
     "data": {
      "text/plain": [
       "Item Fat Content                0\n",
       "Item Identifier                 0\n",
       "Item Type                       0\n",
       "Outlet Establishment Year       0\n",
       "Outlet Identifier               0\n",
       "Outlet Location Type            0\n",
       "Outlet Size                     0\n",
       "Outlet Type                     0\n",
       "Item Visibility                 0\n",
       "Item Weight                  1463\n",
       "Sales                           0\n",
       "Rating                          0\n",
       "dtype: int64"
      ]
     },
     "execution_count": 139,
     "metadata": {},
     "output_type": "execute_result"
    }
   ],
   "source": [
    "df.isna().sum()"
   ]
  },
  {
   "cell_type": "markdown",
   "id": "e0df8c48-c834-4c8a-bc11-4df3cd253e5d",
   "metadata": {},
   "source": [
    "### Data Cleaning - 'LF' and 'reg' in 'Item Fat Content' values"
   ]
  },
  {
   "cell_type": "code",
   "execution_count": 144,
   "id": "c19f4f6f-13e5-47f6-955f-6d8c8989b75b",
   "metadata": {},
   "outputs": [
    {
     "name": "stdout",
     "output_type": "stream",
     "text": [
      "Unique values in Item Fat Content after standardization:\n",
      "['Regular' 'Low Fat']\n"
     ]
    }
   ],
   "source": [
    "df['Item Fat Content'] = df['Item Fat Content'].replace({'LF': 'Low Fat', 'low fat': 'Low Fat', 'reg': 'Regular'})\n",
    "print(\"\\\n",
    "Unique values in Item Fat Content after standardization:\")\n",
    "print(df['Item Fat Content'].unique())"
   ]
  },
  {
   "cell_type": "markdown",
   "id": "4c2adaef-07b7-4305-bfab-7946b50f8f9c",
   "metadata": {},
   "source": [
    "### KPI Requirement"
   ]
  },
  {
   "cell_type": "code",
   "execution_count": 154,
   "id": "6506febe-814d-49ce-90f6-707fd0be6643",
   "metadata": {},
   "outputs": [
    {
     "name": "stdout",
     "output_type": "stream",
     "text": [
      "Total Sales: 1201681.49\n",
      "Average Sales per Item: 140.99\n",
      "Number of Items Sold: 8523\n",
      "Average Rating: 3.97\n"
     ]
    }
   ],
   "source": [
    "# Calculate Total Sales\n",
    "total_sales = df['Sales'].sum()\n",
    "# Calculate Average Sales\n",
    "avg_sales = df['Sales'].mean()\n",
    "# Calculate Number of Items Sold\n",
    "num_items_sold = df['Sales'].count()\n",
    "# Calculate Average Ratings\n",
    "avg_ratings = df['Rating'].mean()\n",
    "\n",
    "# Display KPIs\n",
    "print(f\"Total Sales: {total_sales:.2f}\")\n",
    "print(f\"Average Sales per Item: {avg_sales:.2f}\")\n",
    "print(f\"Number of Items Sold: {num_items_sold}\")\n",
    "print(f\"Average Rating: {avg_ratings:.2f}\")"
   ]
  },
  {
   "cell_type": "markdown",
   "id": "356264cd-cc52-4427-9e8d-a1adc15aa6ef",
   "metadata": {},
   "source": [
    "### Chart's Requiremnet"
   ]
  },
  {
   "cell_type": "markdown",
   "id": "04738565-29c3-4b57-b4c0-8548a0007a8c",
   "metadata": {},
   "source": [
    "### Total Sales distribution by Fat Content(Donut Chart)"
   ]
  },
  {
   "cell_type": "code",
   "execution_count": 210,
   "id": "26e7eaa7-fbe4-4bfb-8ce7-0e3a8a474da1",
   "metadata": {},
   "outputs": [
    {
     "data": {
      "image/png": "[encoded data removed]",
      "text/plain": [
       "<Figure size 600x600 with 1 Axes>"
      ]
     },
     "metadata": {},
     "output_type": "display_data"
    }
   ],
   "source": [
    "sales_by_fat = df.groupby('Item Fat Content')['Sales'].sum()\n",
    "\n",
    "fig, ax = plt.subplots(figsize=(6,6))\n",
    "wedges, texts, autotexts = ax.pie(sales_by_fat, labels=sales_by_fat.index, autopct='%1.1f%%', startangle=90, pctdistance=0.85)\n",
    "centre_circle = plt.Circle((0,0),0.70,fc='white')\n",
    "fig.gca().add_artist(centre_circle)\n",
    "plt.title('Item Fat Content')\n",
    "plt.tight_layout()\n",
    "plt.show()"
   ]
  },
  {
   "cell_type": "markdown",
   "id": "d46961e6-327c-439f-9703-09753685a952",
   "metadata": {},
   "source": [
    "### Total Sales by Item Type (Bar Chart)"
   ]
  },
  {
   "cell_type": "code",
   "execution_count": 188,
   "id": "e3015d07-de2e-4d7e-8545-be5a5581b464",
   "metadata": {},
   "outputs": [
    {
     "data": {
      "image/png": "[encoded data removed]",
      "text/plain": [
       "<Figure size 1000x600 with 1 Axes>"
      ]
     },
     "metadata": {},
     "output_type": "display_data"
    }
   ],
   "source": [
    "sales_by_type = df.groupby('Item Type')['Sales'].sum().sort_values(ascending=False)\n",
    "\n",
    "plt.figure(figsize=(10,6))\n",
    "sns.barplot(x=sales_by_type.index, y=sales_by_type.values, palette='viridis')\n",
    "plt.xticks(rotation=45, ha='right')\n",
    "plt.xlabel('Item Type')\n",
    "plt.ylabel('Total Sales')\n",
    "plt.title('Item Type')\n",
    "plt.tight_layout()\n",
    "plt.show()"
   ]
  },
  {
   "cell_type": "markdown",
   "id": "60d970db-6832-4d34-b117-571e729511ce",
   "metadata": {},
   "source": [
    "### Fat Content by outlet tier for total sales(Cluster Bar Chart)"
   ]
  },
  {
   "cell_type": "code",
   "execution_count": 192,
   "id": "e0977fc5-54bf-4087-99c3-894fccfbd9f9",
   "metadata": {},
   "outputs": [
    {
     "data": {
      "image/png": "[encoded data removed]",
      "text/plain": [
       "<Figure size 1000x700 with 1 Axes>"
      ]
     },
     "metadata": {},
     "output_type": "display_data"
    }
   ],
   "source": [
    "grouped = df.groupby(['Outlet Location Type', 'Item Fat Content'])['Sales'].sum().unstack('Item Fat Content')  \n",
    "grouped = grouped[['Regular', 'Low Fat']]  \n",
    "   \n",
    "grouped.plot(kind='bar', figsize=(10,7))  \n",
    "plt.xlabel('Outlet Location Tier')  \n",
    "plt.ylabel('Total Sales')  \n",
    "plt.title('Outlet Tier by Item Fat Content')  \n",
    "plt.xticks(rotation=0)  \n",
    "plt.legend(title='Item Fat Content')  \n",
    "plt.tight_layout()  \n",
    "plt.show()"
   ]
  },
  {
   "cell_type": "markdown",
   "id": "15d6e497-d565-45a1-89e8-be66b7b03e32",
   "metadata": {},
   "source": [
    "### Total Sales by Outlet Establishment (Line Chart)"
   ]
  },
  {
   "cell_type": "code",
   "execution_count": 194,
   "id": "4a318128-1bd6-4c74-8afa-21208aab7dba",
   "metadata": {},
   "outputs": [
    {
     "data": {
      "image/png": "[encoded data removed]",
      "text/plain": [
       "<Figure size 1000x600 with 1 Axes>"
      ]
     },
     "metadata": {},
     "output_type": "display_data"
    }
   ],
   "source": [
    "sales_by_year = df.groupby('Outlet Establishment Year')['Sales'].sum().sort_index()\n",
    "\n",
    "plt.figure(figsize=(10,6))\n",
    "plt.plot(sales_by_year.index, sales_by_year.values, marker='o', linestyle='-')\n",
    "plt.xlabel('Outlet Establishment Year')\n",
    "plt.ylabel('Total Sales')\n",
    "plt.title('Outlet Establishment')\n",
    "plt.grid(True)\n",
    "plt.tight_layout()\n",
    "plt.show()"
   ]
  },
  {
   "cell_type": "markdown",
   "id": "9515a1f9-716e-4b83-bfba-aefb766ee86b",
   "metadata": {},
   "source": [
    "### Sales by Outlet Size(Donut Chart)"
   ]
  },
  {
   "cell_type": "code",
   "execution_count": 208,
   "id": "352c52c0-47b3-4bf6-bdc7-7ebc26f85250",
   "metadata": {},
   "outputs": [
    {
     "data": {
      "image/png": "[encoded data removed]",
      "text/plain": [
       "<Figure size 600x600 with 1 Axes>"
      ]
     },
     "metadata": {},
     "output_type": "display_data"
    }
   ],
   "source": [
    "sales_by_size = df.groupby('Outlet Size')['Sales'].sum()  \n",
    "fig, ax = plt.subplots(figsize=(6,6))  \n",
    "wedges, texts, autotexts = ax.pie(sales_by_size, labels=sales_by_size.index, autopct='%1.1f%%', startangle=90, pctdistance=0.85)  \n",
    "\n",
    "centre_circle = plt.Circle((0,0),0.70,fc='white')  \n",
    "fig.gca().add_artist(centre_circle)  \n",
    "ax.set_title('Outlet Size')  \n",
    "plt.tight_layout()  \n",
    "plt.show()"
   ]
  },
  {
   "cell_type": "markdown",
   "id": "71c5304b-bc57-418d-8658-c8905c43c9f5",
   "metadata": {},
   "source": [
    "### Sales by Outlet Location(Funnel Chart)"
   ]
  },
  {
   "cell_type": "code",
   "execution_count": 212,
   "id": "7ff7e247-0fef-44d7-89bf-b98744c9d800",
   "metadata": {},
   "outputs": [
    {
     "data": {
      "application/vnd.plotly.v1+json": {
       "config": {
        "plotlyServerURL": "https://plot.ly"
       },
       "data": [
        {
         "hovertemplate": "Sales=%{x}<br>Outlet Location Type=%{y}<extra></extra>",
         "legendgroup": "",
         "marker": {
          "color": "#636efa"
         },
         "name": "",
         "orientation": "h",
         "showlegend": false,
         "type": "funnel",
         "x": [
          472133.0332,
          393150.6476,
          336397.812
         ],
         "xaxis": "x",
         "y": [
          "Tier 3",
          "Tier 2",
          "Tier 1"
         ],
         "yaxis": "y"
        }
       ],
       "layout": {
        "autosize": true,
        "legend": {
         "tracegroupgap": 0
        },
        "template": {
         "data": {
          "bar": [
           {
            "error_x": {
             "color": "#2a3f5f"
            },
            "error_y": {
             "color": "#2a3f5f"
            },
            "marker": {
             "line": {
              "color": "#E5ECF6",
              "width": 0.5
             },
             "pattern": {
              "fillmode": "overlay",
              "size": 10,
              "solidity": 0.2
             }
            },
            "type": "bar"
           }
          ],
          "barpolar": [
           {
            "marker": {
             "line": {
              "color": "#E5ECF6",
              "width": 0.5
             },
             "pattern": {
              "fillmode": "overlay",
              "size": 10,
              "solidity": 0.2
             }
            },
            "type": "barpolar"
           }
          ],
          "carpet": [
           {
            "aaxis": {
             "endlinecolor": "#2a3f5f",
             "gridcolor": "white",
             "linecolor": "white",
             "minorgridcolor": "white",
             "startlinecolor": "#2a3f5f"
            },
            "baxis": {
             "endlinecolor": "#2a3f5f",
             "gridcolor": "white",
             "linecolor": "white",
             "minorgridcolor": "white",
             "startlinecolor": "#2a3f5f"
            },
            "type": "carpet"
           }
          ],
          "choropleth": [
           {
            "colorbar": {
             "outlinewidth": 0,
             "ticks": ""
            },
            "type": "choropleth"
           }
          ],
          "contour": [
           {
            "colorbar": {
             "outlinewidth": 0,
             "ticks": ""
            },
            "colorscale": [
             [
              0,
              "#0d0887"
             ],
             [
              0.1111111111111111,
              "#46039f"
             ],
             [
              0.2222222222222222,
              "#7201a8"
             ],
             [
              0.3333333333333333,
              "#9c179e"
             ],
             [
              0.4444444444444444,
              "#bd3786"
             ],
             [
              0.5555555555555556,
              "#d8576b"
             ],
             [
              0.6666666666666666,
              "#ed7953"
             ],
             [
              0.7777777777777778,
              "#fb9f3a"
             ],
             [
              0.8888888888888888,
              "#fdca26"
             ],
             [
              1,
              "#f0f921"
             ]
            ],
            "type": "contour"
           }
          ],
          "contourcarpet": [
           {
            "colorbar": {
             "outlinewidth": 0,
             "ticks": ""
            },
            "type": "contourcarpet"
           }
          ],
          "heatmap": [
           {
            "colorbar": {
             "outlinewidth": 0,
             "ticks": ""
            },
            "colorscale": [
             [
              0,
              "#0d0887"
             ],
             [
              0.1111111111111111,
              "#46039f"
             ],
             [
              0.2222222222222222,
              "#7201a8"
             ],
             [
              0.3333333333333333,
              "#9c179e"
             ],
             [
              0.4444444444444444,
              "#bd3786"
             ],
             [
              0.5555555555555556,
              "#d8576b"
             ],
             [
              0.6666666666666666,
              "#ed7953"
             ],
             [
              0.7777777777777778,
              "#fb9f3a"
             ],
             [
              0.8888888888888888,
              "#fdca26"
             ],
             [
              1,
              "#f0f921"
             ]
            ],
            "type": "heatmap"
           }
          ],
          "heatmapgl": [
           {
            "colorbar": {
             "outlinewidth": 0,
             "ticks": ""
            },
            "colorscale": [
             [
              0,
              "#0d0887"
             ],
             [
              0.1111111111111111,
              "#46039f"
             ],
             [
              0.2222222222222222,
              "#7201a8"
             ],
             [
              0.3333333333333333,
              "#9c179e"
             ],
             [
              0.4444444444444444,
              "#bd3786"
             ],
             [
              0.5555555555555556,
              "#d8576b"
             ],
             [
              0.6666666666666666,
              "#ed7953"
             ],
             [
              0.7777777777777778,
              "#fb9f3a"
             ],
             [
              0.8888888888888888,
              "#fdca26"
             ],
             [
              1,
              "#f0f921"
             ]
            ],
            "type": "heatmapgl"
           }
          ],
          "histogram": [
           {
            "marker": {
             "pattern": {
              "fillmode": "overlay",
              "size": 10,
              "solidity": 0.2
             }
            },
            "type": "histogram"
           }
          ],
          "histogram2d": [
           {
            "colorbar": {
             "outlinewidth": 0,
             "ticks": ""
            },
            "colorscale": [
             [
              0,
              "#0d0887"
             ],
             [
              0.1111111111111111,
              "#46039f"
             ],
             [
              0.2222222222222222,
              "#7201a8"
             ],
             [
              0.3333333333333333,
              "#9c179e"
             ],
             [
              0.4444444444444444,
              "#bd3786"
             ],
             [
              0.5555555555555556,
              "#d8576b"
             ],
             [
              0.6666666666666666,
              "#ed7953"
             ],
             [
              0.7777777777777778,
              "#fb9f3a"
             ],
             [
              0.8888888888888888,
              "#fdca26"
             ],
             [
              1,
              "#f0f921"
             ]
            ],
            "type": "histogram2d"
           }
          ],
          "histogram2dcontour": [
           {
            "colorbar": {
             "outlinewidth": 0,
             "ticks": ""
            },
            "colorscale": [
             [
              0,
              "#0d0887"
             ],
             [
              0.1111111111111111,
              "#46039f"
             ],
             [
              0.2222222222222222,
              "#7201a8"
             ],
             [
              0.3333333333333333,
              "#9c179e"
             ],
             [
              0.4444444444444444,
              "#bd3786"
             ],
             [
              0.5555555555555556,
              "#d8576b"
             ],
             [
              0.6666666666666666,
              "#ed7953"
             ],
             [
              0.7777777777777778,
              "#fb9f3a"
             ],
             [
              0.8888888888888888,
              "#fdca26"
             ],
             [
              1,
              "#f0f921"
             ]
            ],
            "type": "histogram2dcontour"
           }
          ],
          "mesh3d": [
           {
            "colorbar": {
             "outlinewidth": 0,
             "ticks": ""
            },
            "type": "mesh3d"
           }
          ],
          "parcoords": [
           {
            "line": {
             "colorbar": {
              "outlinewidth": 0,
              "ticks": ""
             }
            },
            "type": "parcoords"
           }
          ],
          "pie": [
           {
            "automargin": true,
            "type": "pie"
           }
          ],
          "scatter": [
           {
            "fillpattern": {
             "fillmode": "overlay",
             "size": 10,
             "solidity": 0.2
            },
            "type": "scatter"
           }
          ],
          "scatter3d": [
           {
            "line": {
             "colorbar": {
              "outlinewidth": 0,
              "ticks": ""
             }
            },
            "marker": {
             "colorbar": {
              "outlinewidth": 0,
              "ticks": ""
             }
            },
            "type": "scatter3d"
           }
          ],
          "scattercarpet": [
           {
            "marker": {
             "colorbar": {
              "outlinewidth": 0,
              "ticks": ""
             }
            },
            "type": "scattercarpet"
           }
          ],
          "scattergeo": [
           {
            "marker": {
             "colorbar": {
              "outlinewidth": 0,
              "ticks": ""
             }
            },
            "type": "scattergeo"
           }
          ],
          "scattergl": [
           {
            "marker": {
             "colorbar": {
              "outlinewidth": 0,
              "ticks": ""
             }
            },
            "type": "scattergl"
           }
          ],
          "scattermapbox": [
           {
            "marker": {
             "colorbar": {
              "outlinewidth": 0,
              "ticks": ""
             }
            },
            "type": "scattermapbox"
           }
          ],
          "scatterpolar": [
           {
            "marker": {
             "colorbar": {
              "outlinewidth": 0,
              "ticks": ""
             }
            },
            "type": "scatterpolar"
           }
          ],
          "scatterpolargl": [
           {
            "marker": {
             "colorbar": {
              "outlinewidth": 0,
              "ticks": ""
             }
            },
            "type": "scatterpolargl"
           }
          ],
          "scatterternary": [
           {
            "marker": {
             "colorbar": {
              "outlinewidth": 0,
              "ticks": ""
             }
            },
            "type": "scatterternary"
           }
          ],
          "surface": [
           {
            "colorbar": {
             "outlinewidth": 0,
             "ticks": ""
            },
            "colorscale": [
             [
              0,
              "#0d0887"
             ],
             [
              0.1111111111111111,
              "#46039f"
             ],
             [
              0.2222222222222222,
              "#7201a8"
             ],
             [
              0.3333333333333333,
              "#9c179e"
             ],
             [
              0.4444444444444444,
              "#bd3786"
             ],
             [
              0.5555555555555556,
              "#d8576b"
             ],
             [
              0.6666666666666666,
              "#ed7953"
             ],
             [
              0.7777777777777778,
              "#fb9f3a"
             ],
             [
              0.8888888888888888,
              "#fdca26"
             ],
             [
              1,
              "#f0f921"
             ]
            ],
            "type": "surface"
           }
          ],
          "table": [
           {
            "cells": {
             "fill": {
              "color": "#EBF0F8"
             },
             "line": {
              "color": "white"
             }
            },
            "header": {
             "fill": {
              "color": "#C8D4E3"
             },
             "line": {
              "color": "white"
             }
            },
            "type": "table"
           }
          ]
         },
         "layout": {
          "annotationdefaults": {
           "arrowcolor": "#2a3f5f",
           "arrowhead": 0,
           "arrowwidth": 1
          },
          "autotypenumbers": "strict",
          "coloraxis": {
           "colorbar": {
            "outlinewidth": 0,
            "ticks": ""
           }
          },
          "colorscale": {
           "diverging": [
            [
             0,
             "#8e0152"
            ],
            [
             0.1,
             "#c51b7d"
            ],
            [
             0.2,
             "#de77ae"
            ],
            [
             0.3,
             "#f1b6da"
            ],
            [
             0.4,
             "#fde0ef"
            ],
            [
             0.5,
             "#f7f7f7"
            ],
            [
             0.6,
             "#e6f5d0"
            ],
            [
             0.7,
             "#b8e186"
            ],
            [
             0.8,
             "#7fbc41"
            ],
            [
             0.9,
             "#4d9221"
            ],
            [
             1,
             "#276419"
            ]
           ],
           "sequential": [
            [
             0,
             "#0d0887"
            ],
            [
             0.1111111111111111,
             "#46039f"
            ],
            [
             0.2222222222222222,
             "#7201a8"
            ],
            [
             0.3333333333333333,
             "#9c179e"
            ],
            [
             0.4444444444444444,
             "#bd3786"
            ],
            [
             0.5555555555555556,
             "#d8576b"
            ],
            [
             0.6666666666666666,
             "#ed7953"
            ],
            [
             0.7777777777777778,
             "#fb9f3a"
            ],
            [
             0.8888888888888888,
             "#fdca26"
            ],
            [
             1,
             "#f0f921"
            ]
           ],
           "sequentialminus": [
            [
             0,
             "#0d0887"
            ],
            [
             0.1111111111111111,
             "#46039f"
            ],
            [
             0.2222222222222222,
             "#7201a8"
            ],
            [
             0.3333333333333333,
             "#9c179e"
            ],
            [
             0.4444444444444444,
             "#bd3786"
            ],
            [
             0.5555555555555556,
             "#d8576b"
            ],
            [
             0.6666666666666666,
             "#ed7953"
            ],
            [
             0.7777777777777778,
             "#fb9f3a"
            ],
            [
             0.8888888888888888,
             "#fdca26"
            ],
            [
             1,
             "#f0f921"
            ]
           ]
          },
          "colorway": [
           "#636efa",
           "#EF553B",
           "#00cc96",
           "#ab63fa",
           "#FFA15A",
           "#19d3f3",
           "#FF6692",
           "#B6E880",
           "#FF97FF",
           "#FECB52"
          ],
          "font": {
           "color": "#2a3f5f"
          },
          "geo": {
           "bgcolor": "white",
           "lakecolor": "white",
           "landcolor": "#E5ECF6",
           "showlakes": true,
           "showland": true,
           "subunitcolor": "white"
          },
          "hoverlabel": {
           "align": "left"
          },
          "hovermode": "closest",
          "mapbox": {
           "style": "light"
          },
          "paper_bgcolor": "white",
          "plot_bgcolor": "#E5ECF6",
          "polar": {
           "angularaxis": {
            "gridcolor": "white",
            "linecolor": "white",
            "ticks": ""
           },
           "bgcolor": "#E5ECF6",
           "radialaxis": {
            "gridcolor": "white",
            "linecolor": "white",
            "ticks": ""
           }
          },
          "scene": {
           "xaxis": {
            "backgroundcolor": "#E5ECF6",
            "gridcolor": "white",
            "gridwidth": 2,
            "linecolor": "white",
            "showbackground": true,
            "ticks": "",
            "zerolinecolor": "white"
           },
           "yaxis": {
            "backgroundcolor": "#E5ECF6",
            "gridcolor": "white",
            "gridwidth": 2,
            "linecolor": "white",
            "showbackground": true,
            "ticks": "",
            "zerolinecolor": "white"
           },
           "zaxis": {
            "backgroundcolor": "#E5ECF6",
            "gridcolor": "white",
            "gridwidth": 2,
            "linecolor": "white",
            "showbackground": true,
            "ticks": "",
            "zerolinecolor": "white"
           }
          },
          "shapedefaults": {
           "line": {
            "color": "#2a3f5f"
           }
          },
          "ternary": {
           "aaxis": {
            "gridcolor": "white",
            "linecolor": "white",
            "ticks": ""
           },
           "baxis": {
            "gridcolor": "white",
            "linecolor": "white",
            "ticks": ""
           },
           "bgcolor": "#E5ECF6",
           "caxis": {
            "gridcolor": "white",
            "linecolor": "white",
            "ticks": ""
           }
          },
          "title": {
           "x": 0.05
          },
          "xaxis": {
           "automargin": true,
           "gridcolor": "white",
           "linecolor": "white",
           "ticks": "",
           "title": {
            "standoff": 15
           },
           "zerolinecolor": "white",
           "zerolinewidth": 2
          },
          "yaxis": {
           "automargin": true,
           "gridcolor": "white",
           "linecolor": "white",
           "ticks": "",
           "title": {
            "standoff": 15
           },
           "zerolinecolor": "white",
           "zerolinewidth": 2
          }
         }
        },
        "title": {
         "text": "Outlet Location"
        },
        "xaxis": {
         "anchor": "y",
         "autorange": true,
         "domain": [
          0,
          1
         ],
         "range": [
          -262296.1295555556,
          262296.1295555556
         ],
         "title": {
          "text": "Sales"
         },
         "type": "linear"
        },
        "yaxis": {
         "anchor": "x",
         "autorange": true,
         "domain": [
          0,
          1
         ],
         "range": [
          2.5,
          -0.5
         ],
         "title": {
          "text": "Outlet Location Type"
         },
         "type": "category"
        }
       }
      },
      "image/png": "[encoded data removed]",
      "text/html": [
       "<div>                            <div id=\"053008dc-33b1-464d-9899-b5ae4ce08eb5\" class=\"plotly-graph-div\" style=\"height:525px; width:100%;\"></div>            <script type=\"text/javascript\">                require([\"plotly\"], function(Plotly) {                    window.PLOTLYENV=window.PLOTLYENV || {};                                    if (document.getElementById(\"053008dc-33b1-464d-9899-b5ae4ce08eb5\")) {                    Plotly.newPlot(                        \"053008dc-33b1-464d-9899-b5ae4ce08eb5\",                        [{\"hovertemplate\":\"Sales=%{x}\\u003cbr\\u003eOutlet Location Type=%{y}\\u003cextra\\u003e\\u003c\\u002fextra\\u003e\",\"legendgroup\":\"\",\"marker\":{\"color\":\"#636efa\"},\"name\":\"\",\"orientation\":\"h\",\"showlegend\":false,\"x\":[472133.0332,393150.6476,336397.812],\"xaxis\":\"x\",\"y\":[\"Tier 3\",\"Tier 2\",\"Tier 1\"],\"yaxis\":\"y\",\"type\":\"funnel\"}],                        {\"template\":{\"data\":{\"histogram2dcontour\":[{\"type\":\"histogram2dcontour\",\"colorbar\":{\"outlinewidth\":0,\"ticks\":\"\"},\"colorscale\":[[0.0,\"#0d0887\"],[0.1111111111111111,\"#46039f\"],[0.2222222222222222,\"#7201a8\"],[0.3333333333333333,\"#9c179e\"],[0.4444444444444444,\"#bd3786\"],[0.5555555555555556,\"#d8576b\"],[0.6666666666666666,\"#ed7953\"],[0.7777777777777778,\"#fb9f3a\"],[0.8888888888888888,\"#fdca26\"],[1.0,\"#f0f921\"]]}],\"choropleth\":[{\"type\":\"choropleth\",\"colorbar\":{\"outlinewidth\":0,\"ticks\":\"\"}}],\"histogram2d\":[{\"type\":\"histogram2d\",\"colorbar\":{\"outlinewidth\":0,\"ticks\":\"\"},\"colorscale\":[[0.0,\"#0d0887\"],[0.1111111111111111,\"#46039f\"],[0.2222222222222222,\"#7201a8\"],[0.3333333333333333,\"#9c179e\"],[0.4444444444444444,\"#bd3786\"],[0.5555555555555556,\"#d8576b\"],[0.6666666666666666,\"#ed7953\"],[0.7777777777777778,\"#fb9f3a\"],[0.8888888888888888,\"#fdca26\"],[1.0,\"#f0f921\"]]}],\"heatmap\":[{\"type\":\"heatmap\",\"colorbar\":{\"outlinewidth\":0,\"ticks\":\"\"},\"colorscale\":[[0.0,\"#0d0887\"],[0.1111111111111111,\"#46039f\"],[0.2222222222222222,\"#7201a8\"],[0.3333333333333333,\"#9c179e\"],[0.4444444444444444,\"#bd3786\"],[0.5555555555555556,\"#d8576b\"],[0.6666666666666666,\"#ed7953\"],[0.7777777777777778,\"#fb9f3a\"],[0.8888888888888888,\"#fdca26\"],[1.0,\"#f0f921\"]]}],\"heatmapgl\":[{\"type\":\"heatmapgl\",\"colorbar\":{\"outlinewidth\":0,\"ticks\":\"\"},\"colorscale\":[[0.0,\"#0d0887\"],[0.1111111111111111,\"#46039f\"],[0.2222222222222222,\"#7201a8\"],[0.3333333333333333,\"#9c179e\"],[0.4444444444444444,\"#bd3786\"],[0.5555555555555556,\"#d8576b\"],[0.6666666666666666,\"#ed7953\"],[0.7777777777777778,\"#fb9f3a\"],[0.8888888888888888,\"#fdca26\"],[1.0,\"#f0f921\"]]}],\"contourcarpet\":[{\"type\":\"contourcarpet\",\"colorbar\":{\"outlinewidth\":0,\"ticks\":\"\"}}],\"contour\":[{\"type\":\"contour\",\"colorbar\":{\"outlinewidth\":0,\"ticks\":\"\"},\"colorscale\":[[0.0,\"#0d0887\"],[0.1111111111111111,\"#46039f\"],[0.2222222222222222,\"#7201a8\"],[0.3333333333333333,\"#9c179e\"],[0.4444444444444444,\"#bd3786\"],[0.5555555555555556,\"#d8576b\"],[0.6666666666666666,\"#ed7953\"],[0.7777777777777778,\"#fb9f3a\"],[0.8888888888888888,\"#fdca26\"],[1.0,\"#f0f921\"]]}],\"surface\":[{\"type\":\"surface\",\"colorbar\":{\"outlinewidth\":0,\"ticks\":\"\"},\"colorscale\":[[0.0,\"#0d0887\"],[0.1111111111111111,\"#46039f\"],[0.2222222222222222,\"#7201a8\"],[0.3333333333333333,\"#9c179e\"],[0.4444444444444444,\"#bd3786\"],[0.5555555555555556,\"#d8576b\"],[0.6666666666666666,\"#ed7953\"],[0.7777777777777778,\"#fb9f3a\"],[0.8888888888888888,\"#fdca26\"],[1.0,\"#f0f921\"]]}],\"mesh3d\":[{\"type\":\"mesh3d\",\"colorbar\":{\"outlinewidth\":0,\"ticks\":\"\"}}],\"scatter\":[{\"fillpattern\":{\"fillmode\":\"overlay\",\"size\":10,\"solidity\":0.2},\"type\":\"scatter\"}],\"parcoords\":[{\"type\":\"parcoords\",\"line\":{\"colorbar\":{\"outlinewidth\":0,\"ticks\":\"\"}}}],\"scatterpolargl\":[{\"type\":\"scatterpolargl\",\"marker\":{\"colorbar\":{\"outlinewidth\":0,\"ticks\":\"\"}}}],\"bar\":[{\"error_x\":{\"color\":\"#2a3f5f\"},\"error_y\":{\"color\":\"#2a3f5f\"},\"marker\":{\"line\":{\"color\":\"#E5ECF6\",\"width\":0.5},\"pattern\":{\"fillmode\":\"overlay\",\"size\":10,\"solidity\":0.2}},\"type\":\"bar\"}],\"scattergeo\":[{\"type\":\"scattergeo\",\"marker\":{\"colorbar\":{\"outlinewidth\":0,\"ticks\":\"\"}}}],\"scatterpolar\":[{\"type\":\"scatterpolar\",\"marker\":{\"colorbar\":{\"outlinewidth\":0,\"ticks\":\"\"}}}],\"histogram\":[{\"marker\":{\"pattern\":{\"fillmode\":\"overlay\",\"size\":10,\"solidity\":0.2}},\"type\":\"histogram\"}],\"scattergl\":[{\"type\":\"scattergl\",\"marker\":{\"colorbar\":{\"outlinewidth\":0,\"ticks\":\"\"}}}],\"scatter3d\":[{\"type\":\"scatter3d\",\"line\":{\"colorbar\":{\"outlinewidth\":0,\"ticks\":\"\"}},\"marker\":{\"colorbar\":{\"outlinewidth\":0,\"ticks\":\"\"}}}],\"scattermapbox\":[{\"type\":\"scattermapbox\",\"marker\":{\"colorbar\":{\"outlinewidth\":0,\"ticks\":\"\"}}}],\"scatterternary\":[{\"type\":\"scatterternary\",\"marker\":{\"colorbar\":{\"outlinewidth\":0,\"ticks\":\"\"}}}],\"scattercarpet\":[{\"type\":\"scattercarpet\",\"marker\":{\"colorbar\":{\"outlinewidth\":0,\"ticks\":\"\"}}}],\"carpet\":[{\"aaxis\":{\"endlinecolor\":\"#2a3f5f\",\"gridcolor\":\"white\",\"linecolor\":\"white\",\"minorgridcolor\":\"white\",\"startlinecolor\":\"#2a3f5f\"},\"baxis\":{\"endlinecolor\":\"#2a3f5f\",\"gridcolor\":\"white\",\"linecolor\":\"white\",\"minorgridcolor\":\"white\",\"startlinecolor\":\"#2a3f5f\"},\"type\":\"carpet\"}],\"table\":[{\"cells\":{\"fill\":{\"color\":\"#EBF0F8\"},\"line\":{\"color\":\"white\"}},\"header\":{\"fill\":{\"color\":\"#C8D4E3\"},\"line\":{\"color\":\"white\"}},\"type\":\"table\"}],\"barpolar\":[{\"marker\":{\"line\":{\"color\":\"#E5ECF6\",\"width\":0.5},\"pattern\":{\"fillmode\":\"overlay\",\"size\":10,\"solidity\":0.2}},\"type\":\"barpolar\"}],\"pie\":[{\"automargin\":true,\"type\":\"pie\"}]},\"layout\":{\"autotypenumbers\":\"strict\",\"colorway\":[\"#636efa\",\"#EF553B\",\"#00cc96\",\"#ab63fa\",\"#FFA15A\",\"#19d3f3\",\"#FF6692\",\"#B6E880\",\"#FF97FF\",\"#FECB52\"],\"font\":{\"color\":\"#2a3f5f\"},\"hovermode\":\"closest\",\"hoverlabel\":{\"align\":\"left\"},\"paper_bgcolor\":\"white\",\"plot_bgcolor\":\"#E5ECF6\",\"polar\":{\"bgcolor\":\"#E5ECF6\",\"angularaxis\":{\"gridcolor\":\"white\",\"linecolor\":\"white\",\"ticks\":\"\"},\"radialaxis\":{\"gridcolor\":\"white\",\"linecolor\":\"white\",\"ticks\":\"\"}},\"ternary\":{\"bgcolor\":\"#E5ECF6\",\"aaxis\":{\"gridcolor\":\"white\",\"linecolor\":\"white\",\"ticks\":\"\"},\"baxis\":{\"gridcolor\":\"white\",\"linecolor\":\"white\",\"ticks\":\"\"},\"caxis\":{\"gridcolor\":\"white\",\"linecolor\":\"white\",\"ticks\":\"\"}},\"coloraxis\":{\"colorbar\":{\"outlinewidth\":0,\"ticks\":\"\"}},\"colorscale\":{\"sequential\":[[0.0,\"#0d0887\"],[0.1111111111111111,\"#46039f\"],[0.2222222222222222,\"#7201a8\"],[0.3333333333333333,\"#9c179e\"],[0.4444444444444444,\"#bd3786\"],[0.5555555555555556,\"#d8576b\"],[0.6666666666666666,\"#ed7953\"],[0.7777777777777778,\"#fb9f3a\"],[0.8888888888888888,\"#fdca26\"],[1.0,\"#f0f921\"]],\"sequentialminus\":[[0.0,\"#0d0887\"],[0.1111111111111111,\"#46039f\"],[0.2222222222222222,\"#7201a8\"],[0.3333333333333333,\"#9c179e\"],[0.4444444444444444,\"#bd3786\"],[0.5555555555555556,\"#d8576b\"],[0.6666666666666666,\"#ed7953\"],[0.7777777777777778,\"#fb9f3a\"],[0.8888888888888888,\"#fdca26\"],[1.0,\"#f0f921\"]],\"diverging\":[[0,\"#8e0152\"],[0.1,\"#c51b7d\"],[0.2,\"#de77ae\"],[0.3,\"#f1b6da\"],[0.4,\"#fde0ef\"],[0.5,\"#f7f7f7\"],[0.6,\"#e6f5d0\"],[0.7,\"#b8e186\"],[0.8,\"#7fbc41\"],[0.9,\"#4d9221\"],[1,\"#276419\"]]},\"xaxis\":{\"gridcolor\":\"white\",\"linecolor\":\"white\",\"ticks\":\"\",\"title\":{\"standoff\":15},\"zerolinecolor\":\"white\",\"automargin\":true,\"zerolinewidth\":2},\"yaxis\":{\"gridcolor\":\"white\",\"linecolor\":\"white\",\"ticks\":\"\",\"title\":{\"standoff\":15},\"zerolinecolor\":\"white\",\"automargin\":true,\"zerolinewidth\":2},\"scene\":{\"xaxis\":{\"backgroundcolor\":\"#E5ECF6\",\"gridcolor\":\"white\",\"linecolor\":\"white\",\"showbackground\":true,\"ticks\":\"\",\"zerolinecolor\":\"white\",\"gridwidth\":2},\"yaxis\":{\"backgroundcolor\":\"#E5ECF6\",\"gridcolor\":\"white\",\"linecolor\":\"white\",\"showbackground\":true,\"ticks\":\"\",\"zerolinecolor\":\"white\",\"gridwidth\":2},\"zaxis\":{\"backgroundcolor\":\"#E5ECF6\",\"gridcolor\":\"white\",\"linecolor\":\"white\",\"showbackground\":true,\"ticks\":\"\",\"zerolinecolor\":\"white\",\"gridwidth\":2}},\"shapedefaults\":{\"line\":{\"color\":\"#2a3f5f\"}},\"annotationdefaults\":{\"arrowcolor\":\"#2a3f5f\",\"arrowhead\":0,\"arrowwidth\":1},\"geo\":{\"bgcolor\":\"white\",\"landcolor\":\"#E5ECF6\",\"subunitcolor\":\"white\",\"showland\":true,\"showlakes\":true,\"lakecolor\":\"white\"},\"title\":{\"x\":0.05},\"mapbox\":{\"style\":\"light\"}}},\"xaxis\":{\"anchor\":\"y\",\"domain\":[0.0,1.0],\"title\":{\"text\":\"Sales\"}},\"yaxis\":{\"anchor\":\"x\",\"domain\":[0.0,1.0],\"title\":{\"text\":\"Outlet Location Type\"}},\"legend\":{\"tracegroupgap\":0},\"title\":{\"text\":\"Outlet Location\"}},                        {\"responsive\": true}                    ).then(function(){\n",
       "                            \n",
       "var gd = document.getElementById('053008dc-33b1-464d-9899-b5ae4ce08eb5');\n",
       "var x = new MutationObserver(function (mutations, observer) {{\n",
       "        var display = window.getComputedStyle(gd).display;\n",
       "        if (!display || display === 'none') {{\n",
       "            console.log([gd, 'removed!']);\n",
       "            Plotly.purge(gd);\n",
       "            observer.disconnect();\n",
       "        }}\n",
       "}});\n",
       "\n",
       "// Listen for the removal of the full notebook cells\n",
       "var notebookContainer = gd.closest('#notebook-container');\n",
       "if (notebookContainer) {{\n",
       "    x.observe(notebookContainer, {childList: true});\n",
       "}}\n",
       "\n",
       "// Listen for the clearing of the current output cell\n",
       "var outputEl = gd.closest('.output');\n",
       "if (outputEl) {{\n",
       "    x.observe(outputEl, {childList: true});\n",
       "}}\n",
       "\n",
       "                        })                };                });            </script>        </div>"
      ]
     },
     "metadata": {},
     "output_type": "display_data"
    }
   ],
   "source": [
    "import plotly.express as px\n",
    "sales_by_location = df.groupby('Outlet Location Type')['Sales'].sum().reset_index()  \n",
    "sales_by_location = sales_by_location.sort_values('Sales', ascending=False)  \n",
    "   \n",
    "funnel_fig = px.funnel(sales_by_location,   \n",
    "                x='Sales',   \n",
    "                y='Outlet Location Type',  \n",
    "                title='Outlet Location')  \n",
    "funnel_fig.show()"
   ]
  },
  {
   "cell_type": "markdown",
   "id": "8b223a53-f45f-4496-8562-4fd5586abc15",
   "metadata": {},
   "source": [
    "### All Matrix by outlet type"
   ]
  },
  {
   "cell_type": "code",
   "execution_count": 226,
   "id": "0f95fb85-8bd0-4ba4-97b4-66b7b300700e",
   "metadata": {},
   "outputs": [
    {
     "name": "stdout",
     "output_type": "stream",
     "text": [
      "\n",
      "Matrix Card: Key Metrics by Outlet Type\n",
      "         Outlet Type  Total Sales  Average Sales  Number of Items  \\\n",
      "0      Grocery Store  151939.1490     140.294690             1083   \n",
      "1  Supermarket Type1  787549.8928     141.213895             5577   \n",
      "2  Supermarket Type2  131477.7764     141.678638              928   \n",
      "3  Supermarket Type3  130714.6746     139.801791              935   \n",
      "\n",
      "   Average Rating  \n",
      "0        3.985873  \n",
      "1        3.963242  \n",
      "2        3.971228  \n",
      "3        3.952941  \n"
     ]
    }
   ],
   "source": [
    "grouped_metrics = df.groupby('Outlet Type').agg({  \n",
    "    'Sales': ['sum', 'mean', 'count'],  \n",
    "    'Rating': 'mean'  })  \n",
    " \n",
    "grouped_metrics.columns = ['Total Sales', 'Average Sales', 'Number of Items', 'Average Rating']  \n",
    "grouped_metrics = grouped_metrics.reset_index()  \n",
    "  \n",
    "print(\"\\nMatrix Card: Key Metrics by Outlet Type\")  \n",
    "print(grouped_metrics)"
   ]
  },
  {
   "cell_type": "markdown",
   "id": "897aab5d-24e7-43d7-b95f-928f02cc9dd5",
   "metadata": {},
   "source": [
    "### Display by Matrix card"
   ]
  },
  {
   "cell_type": "code",
   "execution_count": 230,
   "id": "a48e4eac-93e4-4f9c-8102-80616fd3d20a",
   "metadata": {},
   "outputs": [
    {
     "data": {
      "text/html": [
       "<style type=\"text/css\">\n",
       "</style>\n",
       "<table id=\"T_57ead\">\n",
       "  <thead>\n",
       "    <tr>\n",
       "      <th class=\"blank level0\" >&nbsp;</th>\n",
       "      <th id=\"T_57ead_level0_col0\" class=\"col_heading level0 col0\" >Outlet Type</th>\n",
       "      <th id=\"T_57ead_level0_col1\" class=\"col_heading level0 col1\" >Total Sales</th>\n",
       "      <th id=\"T_57ead_level0_col2\" class=\"col_heading level0 col2\" >Average Sales</th>\n",
       "      <th id=\"T_57ead_level0_col3\" class=\"col_heading level0 col3\" >Number of Items</th>\n",
       "      <th id=\"T_57ead_level0_col4\" class=\"col_heading level0 col4\" >Average Rating</th>\n",
       "    </tr>\n",
       "  </thead>\n",
       "  <tbody>\n",
       "    <tr>\n",
       "      <th id=\"T_57ead_level0_row0\" class=\"row_heading level0 row0\" >0</th>\n",
       "      <td id=\"T_57ead_row0_col0\" class=\"data row0 col0\" >Grocery Store</td>\n",
       "      <td id=\"T_57ead_row0_col1\" class=\"data row0 col1\" >151939.15</td>\n",
       "      <td id=\"T_57ead_row0_col2\" class=\"data row0 col2\" >140.29</td>\n",
       "      <td id=\"T_57ead_row0_col3\" class=\"data row0 col3\" >1083</td>\n",
       "      <td id=\"T_57ead_row0_col4\" class=\"data row0 col4\" >3.99</td>\n",
       "    </tr>\n",
       "    <tr>\n",
       "      <th id=\"T_57ead_level0_row1\" class=\"row_heading level0 row1\" >1</th>\n",
       "      <td id=\"T_57ead_row1_col0\" class=\"data row1 col0\" >Supermarket Type1</td>\n",
       "      <td id=\"T_57ead_row1_col1\" class=\"data row1 col1\" >787549.89</td>\n",
       "      <td id=\"T_57ead_row1_col2\" class=\"data row1 col2\" >141.21</td>\n",
       "      <td id=\"T_57ead_row1_col3\" class=\"data row1 col3\" >5577</td>\n",
       "      <td id=\"T_57ead_row1_col4\" class=\"data row1 col4\" >3.96</td>\n",
       "    </tr>\n",
       "    <tr>\n",
       "      <th id=\"T_57ead_level0_row2\" class=\"row_heading level0 row2\" >2</th>\n",
       "      <td id=\"T_57ead_row2_col0\" class=\"data row2 col0\" >Supermarket Type2</td>\n",
       "      <td id=\"T_57ead_row2_col1\" class=\"data row2 col1\" >131477.78</td>\n",
       "      <td id=\"T_57ead_row2_col2\" class=\"data row2 col2\" >141.68</td>\n",
       "      <td id=\"T_57ead_row2_col3\" class=\"data row2 col3\" >928</td>\n",
       "      <td id=\"T_57ead_row2_col4\" class=\"data row2 col4\" >3.97</td>\n",
       "    </tr>\n",
       "    <tr>\n",
       "      <th id=\"T_57ead_level0_row3\" class=\"row_heading level0 row3\" >3</th>\n",
       "      <td id=\"T_57ead_row3_col0\" class=\"data row3 col0\" >Supermarket Type3</td>\n",
       "      <td id=\"T_57ead_row3_col1\" class=\"data row3 col1\" >130714.67</td>\n",
       "      <td id=\"T_57ead_row3_col2\" class=\"data row3 col2\" >139.80</td>\n",
       "      <td id=\"T_57ead_row3_col3\" class=\"data row3 col3\" >935</td>\n",
       "      <td id=\"T_57ead_row3_col4\" class=\"data row3 col4\" >3.95</td>\n",
       "    </tr>\n",
       "  </tbody>\n",
       "</table>\n"
      ],
      "text/plain": [
       "<pandas.io.formats.style.Styler at 0x20e313984d0>"
      ]
     },
     "metadata": {},
     "output_type": "display_data"
    }
   ],
   "source": [
    "import matplotlib.font_manager as fm  \n",
    "from IPython.display import display  \n",
    "display(grouped_metrics.style.format({'Total Sales': '{:.2f}', 'Average Sales': '{:.2f}', 'Average Rating': '{:.2f}'}))"
   ]
  }
 ],
 "metadata": {
  "kernelspec": {
   "display_name": "Python [conda env:base] *",
   "language": "python",
   "name": "conda-base-py"
  },
  "language_info": {
   "codemirror_mode": {
    "name": "ipython",
    "version": 3
   },
   "file_extension": ".py",
   "mimetype": "text/x-python",
   "name": "python",
   "nbconvert_exporter": "python",
   "pygments_lexer": "ipython3",
   "version": "3.12.7"
  }
 },
 "nbformat": 4,
 "nbformat_minor": 5
}
